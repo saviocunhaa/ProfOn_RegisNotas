{
 "cells": [
  {
   "cell_type": "code",
   "execution_count": null,
   "id": "40f74037",
   "metadata": {},
   "outputs": [],
   "source": [
    "# AUTOMAÇÃO SISTEMA PROFESSOR ONLINE - BY PROFESSOR SAVIO CUNHA (@SAVIOCUNHAA)\n",
    "\n",
    "# 1º PASSO - INSTALAR PYTHON - EU UTILIZO O jupyter notebook (anaconda3) - https://youtu.be/_eK0z5QbpKA\n",
    "# instalar biblotecas necessarias\n",
    "# dica execulte os blocos de forma individual \n",
    "\n",
    "!pip install selenium\n",
    "\n",
    "!pip install pandas\n",
    "\n",
    "!pip install openpyxl\n",
    "\n",
    "!pip install pyautogui"
   ]
  },
  {
   "cell_type": "code",
   "execution_count": null,
   "id": "76292e87",
   "metadata": {},
   "outputs": [],
   "source": [
    "# AUTOMAÇÃO SISTEMA PROFESSOR ONLINE\n",
    "#ENTRAR NO PROFESSOR ONLINE COM SEU USUARIO E SENHA\n",
    "\n",
    "from selenium import webdriver\n",
    "from selenium.webdriver.common.keys import Keys\n",
    "from selenium.webdriver.common.by import By\n",
    "import time\n",
    "import pyautogui\n",
    "\n",
    "\n",
    "navegador = webdriver.Chrome()\n",
    "#entrar no site do sice\n",
    "navegador.get(\"https://professor.seduc.ce.gov.br/\")\n",
    "\n",
    "time.sleep(5)\n",
    "pyautogui.hotkey('win', 'up') #MAXIMIZAR A TELA\n",
    "time.sleep(5)\n",
    "usuarioProf = \"SEU USUARIO AQUI\" #ADICIONE SEU USUARIO\n",
    "senhaProf = \"SUA SENHA AQUI\" #ADICIONE SUA SENHA\n",
    "\n",
    "#entrar na Conta \n",
    "navegador.find_element(By.XPATH, '//*[@id=\"top\"]/div/div/div[2]/div/div/div/a').click()\n",
    "navegador.find_element(By.XPATH, '//*[@id=\"username\"]').send_keys(f\"{usuarioProf}\")\n",
    "navegador.find_element(By.XPATH, '//*[@id=\"password\"]').send_keys(f\"{senhaProf}\")\n",
    "navegador.find_element(By.XPATH, '//*[@id=\"formLogin\"]/div[3]/div/button').click()"
   ]
  },
  {
   "cell_type": "code",
   "execution_count": null,
   "id": "c858d8c3",
   "metadata": {
    "scrolled": false
   },
   "outputs": [],
   "source": [
    "# lançar notas no sistema, primeiro vc cria avaliação do periodo determinado \n",
    "# clica em lançar notas para exibir todos os alunos, em seguida usará a planilha como base para inserir\n",
    "# COLOQUE A PLANILHA EM ORDEM ALFABETICA, E DE PREFERENCIA SEM ACENTOS, CARACTARES ESPECIAIS.\n",
    "# O NOME DA PLANILHA DEVE ESTA IGUAL AO DO SISTEMA DO PRROFESSOR ONLINE \n",
    "\n",
    "#puxar planilha e exibir\n",
    "\n",
    "import pandas as pd\n",
    "notasdf = pd.read_excel(\"PLANILHA NOTAS ALUNOS.xlsx\")\n",
    "\n",
    "display(notasdf)"
   ]
  },
  {
   "cell_type": "code",
   "execution_count": null,
   "id": "65f80430",
   "metadata": {},
   "outputs": [],
   "source": [
    "# inserir todas as Notas compara nome do aluno da planilha com Nome do aluno no sistema \n",
    "\n",
    "time.sleep(5)\n",
    "i=1\n",
    "iA=0\n",
    "iS=1\n",
    "for i in notasdf[\"NOME\"]:\n",
    "\n",
    "    nomeAluno = notasdf[\"NOME\"].values[iA]\n",
    "    notaAluno = notasdf[\"NOTA\"].values[iA]\n",
    "    \n",
    "    nomeSistema = navegador.find_element(By.XPATH, f'//*[@id=\"body-list\"]/div[{iS}]/div[2]/div').text\n",
    "    notaSistema = navegador.find_element(By.XPATH, f'//*[@id=\"body-list\"]/div[{iS}]/div[3]/div/div/input[1]')\n",
    "    \n",
    "    if nomeAluno == nomeSistema:\n",
    "        print(f'Aluno:{nomeAluno} Nota:{notaAluno}')\n",
    "        notaSistema.clear()\n",
    "        notaSistema.send_keys(f'{notaAluno}')\n",
    "    iA=iA+1\n",
    "    iS=iS+1\n",
    "    \n",
    "time.sleep(3)\n",
    "#salvar alterações \n",
    "navegador.find_element(By.XPATH, '//*[@id=\"btn_save\"]').click()\n",
    "time.sleep(2)\n",
    "navegador.find_element(By.XPATH, '//*[@id=\"confirma-senha-password\"]').send_keys(f\"{senhaProf}\")\n",
    "navegador.find_element(By.XPATH, '//*[@id=\"btn-confirmar-senha\"]').click()\n"
   ]
  }
 ],
 "metadata": {
  "kernelspec": {
   "display_name": "Python 3 (ipykernel)",
   "language": "python",
   "name": "python3"
  },
  "language_info": {
   "codemirror_mode": {
    "name": "ipython",
    "version": 3
   },
   "file_extension": ".py",
   "mimetype": "text/x-python",
   "name": "python",
   "nbconvert_exporter": "python",
   "pygments_lexer": "ipython3",
   "version": "3.9.12"
  }
 },
 "nbformat": 4,
 "nbformat_minor": 5
}
